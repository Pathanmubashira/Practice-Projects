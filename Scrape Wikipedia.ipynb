{
 "cells": [
  {
   "cell_type": "markdown",
   "id": "1efe3cf3",
   "metadata": {},
   "source": [
    "## Scrape Wikipedia"
   ]
  },
  {
   "cell_type": "markdown",
   "id": "e76ea691",
   "metadata": {},
   "source": [
    "#### 1. To start scraping useful information from Wikipedia, we need to first install the wikipedia package. Here's how you can do it in Python"
   ]
  },
  {
   "cell_type": "code",
   "execution_count": 2,
   "id": "23f60cf4",
   "metadata": {},
   "outputs": [
    {
     "name": "stdout",
     "output_type": "stream",
     "text": [
      "Requirement already satisfied: wikipedia in c:\\users\\pathan mubeshira\\anaconda3\\lib\\site-packages (1.4.0)\n",
      "Requirement already satisfied: beautifulsoup4 in c:\\users\\pathan mubeshira\\anaconda3\\lib\\site-packages (from wikipedia) (4.12.2)\n",
      "Requirement already satisfied: requests<3.0.0,>=2.0.0 in c:\\users\\pathan mubeshira\\anaconda3\\lib\\site-packages (from wikipedia) (2.31.0)\n",
      "Requirement already satisfied: charset-normalizer<4,>=2 in c:\\users\\pathan mubeshira\\anaconda3\\lib\\site-packages (from requests<3.0.0,>=2.0.0->wikipedia) (2.0.4)\n",
      "Requirement already satisfied: idna<4,>=2.5 in c:\\users\\pathan mubeshira\\anaconda3\\lib\\site-packages (from requests<3.0.0,>=2.0.0->wikipedia) (3.4)\n",
      "Requirement already satisfied: urllib3<3,>=1.21.1 in c:\\users\\pathan mubeshira\\anaconda3\\lib\\site-packages (from requests<3.0.0,>=2.0.0->wikipedia) (1.26.16)\n",
      "Requirement already satisfied: certifi>=2017.4.17 in c:\\users\\pathan mubeshira\\anaconda3\\lib\\site-packages (from requests<3.0.0,>=2.0.0->wikipedia) (2023.7.22)\n",
      "Requirement already satisfied: soupsieve>1.2 in c:\\users\\pathan mubeshira\\anaconda3\\lib\\site-packages (from beautifulsoup4->wikipedia) (2.4)\n",
      "Note: you may need to restart the kernel to use updated packages.\n"
     ]
    }
   ],
   "source": [
    "pip install wikipedia"
   ]
  },
  {
   "cell_type": "markdown",
   "id": "bf8189ad",
   "metadata": {},
   "source": [
    "### 2. Importing Wikipedia"
   ]
  },
  {
   "cell_type": "code",
   "execution_count": 14,
   "id": "6bebc9cb",
   "metadata": {},
   "outputs": [],
   "source": [
    "import wikipedia"
   ]
  },
  {
   "cell_type": "markdown",
   "id": "f1bbeb14",
   "metadata": {},
   "source": [
    "Once you have imported the package, you can use its functions to retrieve information from Wikipedia pages."
   ]
  },
  {
   "cell_type": "markdown",
   "id": "41e6c025",
   "metadata": {},
   "source": [
    "### 3. Defining the Search Query\n",
    "\n",
    "We define a variable search_query and assign it the value \"Python\". This is the term we want to search for on Wikipedia."
   ]
  },
  {
   "cell_type": "code",
   "execution_count": 16,
   "id": "b2cac213",
   "metadata": {},
   "outputs": [
    {
     "name": "stdout",
     "output_type": "stream",
     "text": [
      "['Data analysis', 'Exploratory data analysis', 'Big data', 'Topological data analysis', 'Multivariate statistics', 'Functional data analysis', 'Forensic data analysis', 'Data', 'Qualitative research', 'Distributional data analysis']\n"
     ]
    }
   ],
   "source": [
    "search_query = \"Data Analysis\"\n",
    "search_results = wikipedia.search(search_query)\n",
    "print(search_results)"
   ]
  },
  {
   "cell_type": "code",
   "execution_count": 17,
   "id": "40f3fded",
   "metadata": {},
   "outputs": [
    {
     "name": "stdout",
     "output_type": "stream",
     "text": [
      "Data analysis is the process of inspecting, cleansing, transforming, and modeling data with the goal of discovering useful information, informing conclusions, and supporting decision-making. Data analysis has multiple facets and approaches, encompassing diverse techniques under a variety of names, and is used in different business, science, and social science domains. In today's business world, data analysis plays a role in making decisions more scientific and helping businesses operate more effectively.\n",
      "Data mining is a particular data analysis technique that focuses on statistical modeling and knowledge discovery for predictive rather than purely descriptive purposes, while business intelligence covers data analysis that relies heavily on aggregation, focusing mainly on business information. In statistical applications, data analysis can be divided into descriptive statistics, exploratory data analysis (EDA), and confirmatory data analysis (CDA). EDA focuses on discovering new features in the data while CDA focuses on confirming or falsifying existing hypotheses. Predictive analytics focuses on the application of statistical models for predictive forecasting or classification, while text analytics applies statistical, linguistic, and structural techniques to extract and classify information from textual sources, a species of unstructured data. All of the above are varieties of data analysis.\n",
      "Data integration is a precursor to data analysis, and data analysis is closely linked to data visualization and data dissemination.\n",
      "\n",
      "\n"
     ]
    }
   ],
   "source": [
    "summary = wikipedia.summary(\"Data Analysis\")\n",
    "print(summary)"
   ]
  },
  {
   "cell_type": "markdown",
   "id": "cf165aa3",
   "metadata": {},
   "source": [
    "### 4. To retrieve the summary of a Wikipedia page in a language other than English\n",
    "\n",
    "you can specify the language using the lang parameter in the summary() method. "
   ]
  },
  {
   "cell_type": "code",
   "execution_count": 22,
   "id": "0b4e9bbf",
   "metadata": {},
   "outputs": [
    {
     "name": "stdout",
     "output_type": "stream",
     "text": [
      "L’analyse des données (aussi appelée analyse exploratoire des données ou AED) est une famille de méthodes statistiques dont les principales caractéristiques sont d'être multidimensionnelles et descriptives. Dans l'acception française, la terminologie « analyse des données » désigne donc un sous-ensemble de ce qui est appelé plus généralement la statistique multivariée. Certaines méthodes, pour la plupart géométriques, aident à faire ressortir les relations pouvant exister entre les différentes données et à en tirer une information statistique qui permet de décrire de façon plus succincte les principales informations contenues dans ces données. D'autres techniques permettent de regrouper les données de façon à faire apparaître clairement ce qui les rend homogènes, et ainsi mieux les connaître.\n",
      "L’analyse des données permet de traiter un nombre très important de données et de dégager les aspects les plus intéressants de la structure de celles-ci. Le succès de cette discipline dans les dernières années est dû, dans une large mesure, aux représentations graphiques fournies. Ces graphiques peuvent mettre en évidence des relations difficilement saisies par l’analyse directe des données ; mais surtout, ces représentations ne sont pas liées à une opinion « a priori » sur les lois des phénomènes analysés contrairement aux méthodes de la statistique classique.\n",
      "Les fondements mathématiques de l’analyse des données ont commencé à se développer au début du XXe siècle, mais ce sont les ordinateurs qui ont rendu cette discipline opérationnelle, et qui en ont permis une utilisation très étendue. Mathématiques et informatique sont ici intimement liées.\n"
     ]
    }
   ],
   "source": [
    "wikipedia.set_lang(\"fr\")\n",
    "\n",
    "# Retrieve the summary for \"Data Analysis\" in French\n",
    "\n",
    "summary_french = wikipedia.summary(\"Analyse de données\")\n",
    "print(summary_french)"
   ]
  },
  {
   "cell_type": "code",
   "execution_count": 23,
   "id": "f5e3317c",
   "metadata": {},
   "outputs": [
    {
     "name": "stdout",
     "output_type": "stream",
     "text": [
      "بيانات: مفرد بيان- بيانات / مجموعة بيانات\n",
      "1 - معلومات تفصيليّة حول شخص أو شيءٍ ما يمكن من خلالها الاستدلال عليه.\n",
      "2 - (الحاسبات والمعلومات) رموز عدديّة وغيرها من المعلومات الممثَّلة بشكل ملائم لمعالجتها بالحاسوب.\n",
      "\n",
      "تحليل البيانات أو المعطيات (بالإنجليزية: Data analysis)‏: هو عملية الفحص والتدقيق للبيانات، وتمشيطها لتكون أكثر دقة، واعادة تشكيلها، وتخزينها أيضا لنحصل ونستنبط في النهاية على معلومات يمكن على اساسها اتخاذ وتحديد القرارات. ولتحليل البيانات طرق عديدة تختلف باختلاف المجال المستخدمة فيه. حيث يمكننا استخدام تحليل البيانات في العلوم والعلوم الاجتماعية والمالية أيضا.\n"
     ]
    }
   ],
   "source": [
    "# Set the language to Arabic\n",
    "wikipedia.set_lang(\"ar\")\n",
    "\n",
    "# Retrieve the summary for \"Data Analysis\" in Arabic\n",
    "summary_arabic = wikipedia.summary(\"تحليل البيانات\")\n",
    "print(summary_arabic)"
   ]
  },
  {
   "cell_type": "markdown",
   "id": "b3256e8c",
   "metadata": {},
   "source": [
    "### 5. To Get the Tittle"
   ]
  },
  {
   "cell_type": "code",
   "execution_count": 18,
   "id": "6638c240",
   "metadata": {},
   "outputs": [
    {
     "name": "stdout",
     "output_type": "stream",
     "text": [
      "Title: Data analysis\n"
     ]
    }
   ],
   "source": [
    "search_query = \"Data Analysis\"\n",
    "\n",
    "# Retrieve the Wikipedia page object\n",
    "page = wikipedia.page(search_query)\n",
    "\n",
    "# Get the title of the Wikipedia page\n",
    "title = page.title\n",
    "\n",
    "print(\"Title:\", title)"
   ]
  },
  {
   "cell_type": "markdown",
   "id": "d373a61c",
   "metadata": {},
   "source": [
    "### 6. To get the url of the article"
   ]
  },
  {
   "cell_type": "code",
   "execution_count": 20,
   "id": "8f7b143d",
   "metadata": {},
   "outputs": [
    {
     "name": "stdout",
     "output_type": "stream",
     "text": [
      "Title: https://en.wikipedia.org/wiki/Data_analysis\n"
     ]
    }
   ],
   "source": [
    "search_query = \"Data Analysis\"\n",
    "\n",
    "page = wikipedia.page(search_query)\n",
    "\n",
    "url = page.url\n",
    "\n",
    "print(\"Title:\", url)"
   ]
  },
  {
   "cell_type": "markdown",
   "id": "58317da0",
   "metadata": {},
   "source": [
    "### 7. To get the url of the images"
   ]
  },
  {
   "cell_type": "code",
   "execution_count": 21,
   "id": "818e4dc5",
   "metadata": {},
   "outputs": [
    {
     "name": "stdout",
     "output_type": "stream",
     "text": [
      "Images:\n",
      "https://upload.wikimedia.org/wikipedia/commons/b/ba/Data_visualization_process_v1.png\n",
      "https://upload.wikimedia.org/wikipedia/commons/5/54/Rayleigh-Taylor_instability.jpg\n",
      "https://upload.wikimedia.org/wikipedia/commons/e/ee/Relationship_of_data%2C_information_and_intelligence.png\n",
      "https://upload.wikimedia.org/wikipedia/commons/9/9b/Social_Network_Analysis_Visualization.png\n",
      "https://upload.wikimedia.org/wikipedia/commons/f/fb/Total_Revenues_and_Outlays_as_Percent_GDP_2013.png\n",
      "https://upload.wikimedia.org/wikipedia/commons/7/7e/U.S._Phillips_Curve_2000_to_2013.png\n",
      "https://upload.wikimedia.org/wikipedia/commons/d/db/US_Employment_Statistics_-_March_2015.png\n",
      "https://upload.wikimedia.org/wikipedia/commons/8/80/User-activities.png\n",
      "https://upload.wikimedia.org/wikipedia/commons/0/0b/Wikiversity_logo_2017.svg\n",
      "https://upload.wikimedia.org/wikipedia/en/8/8a/OOjs_UI_icon_edit-ltr-progressive.svg\n"
     ]
    }
   ],
   "source": [
    "search_query = \"Data Analysis\"\n",
    "\n",
    "page = wikipedia.page(search_query)\n",
    "\n",
    "image_urls = page.images\n",
    "\n",
    "# Print each image URL\n",
    "print(\"Images:\")\n",
    "for url in image_urls:\n",
    "    print(url)\n"
   ]
  },
  {
   "cell_type": "code",
   "execution_count": null,
   "id": "bdfad7cd",
   "metadata": {},
   "outputs": [],
   "source": []
  }
 ],
 "metadata": {
  "kernelspec": {
   "display_name": "Python 3 (ipykernel)",
   "language": "python",
   "name": "python3"
  },
  "language_info": {
   "codemirror_mode": {
    "name": "ipython",
    "version": 3
   },
   "file_extension": ".py",
   "mimetype": "text/x-python",
   "name": "python",
   "nbconvert_exporter": "python",
   "pygments_lexer": "ipython3",
   "version": "3.11.5"
  }
 },
 "nbformat": 4,
 "nbformat_minor": 5
}
